{
 "cells": [
  {
   "cell_type": "markdown",
   "id": "78766a41",
   "metadata": {},
   "source": [
    "<a target=\"_blank\" href=\"https://colab.research.google.com/github/DeKUT-DSAIL/ieee-africon-2023/blob/main/water-resource-monitoring/anomaly_detection/Data_from_Kenet.ipynb\">\n",
    "  <img src=\"https://colab.research.google.com/assets/colab-badge.svg\" alt=\"Open In Colab\"/>\n",
    "</a>"
   ]
  },
  {
   "cell_type": "markdown",
   "id": "9206aa94",
   "metadata": {},
   "source": [
    "##### To get data from the InfluxDB database from a KENET a server, we need to query the database in Python using the InfluxDB client "
   ]
  },
  {
   "cell_type": "code",
   "execution_count": 8,
   "id": "317f009f",
   "metadata": {},
   "outputs": [],
   "source": [
    "#import the necesary packages\n",
    "import pandas as pd\n",
    "from matplotlib import pyplot as plt\n",
    "from influxdb import InfluxDBClient\n",
    "from datetime import datetime, timedelta\n",
    "import numpy as np"
   ]
  },
  {
   "cell_type": "markdown",
   "id": "33ec616d",
   "metadata": {},
   "source": [
    "- Visualize the data"
   ]
  },
  {
   "cell_type": "code",
   "execution_count": 9,
   "id": "acf36740",
   "metadata": {},
   "outputs": [],
   "source": [
    "#use the KENET Machine IP address and the database name to access the data.\n",
    "client = InfluxDBClient(host = '197.137.66.32', port = 8086, database = 'kenet1')\n",
    "query_str=\"select * from \\\"kenet1\\\" where \\\"device_id\\\" = \\'ngatosolar1\\'\" # influxdb query style\n",
    "result = client.query(query_str)\n",
    "result_list = list(result.get_points())\n",
    "df = pd.DataFrame(result_list) # dataframe with the data.\n",
    "df[['time']] = df[['time']].apply(pd.to_datetime)"
   ]
  },
  {
   "cell_type": "code",
   "execution_count": 10,
   "id": "dff3eb4e",
   "metadata": {},
   "outputs": [
    {
     "data": {
      "text/html": [
       "<div>\n",
       "<style scoped>\n",
       "    .dataframe tbody tr th:only-of-type {\n",
       "        vertical-align: middle;\n",
       "    }\n",
       "\n",
       "    .dataframe tbody tr th {\n",
       "        vertical-align: top;\n",
       "    }\n",
       "\n",
       "    .dataframe thead th {\n",
       "        text-align: right;\n",
       "    }\n",
       "</style>\n",
       "<table border=\"1\" class=\"dataframe\">\n",
       "  <thead>\n",
       "    <tr style=\"text-align: right;\">\n",
       "      <th></th>\n",
       "      <th>time</th>\n",
       "      <th>battery_voltage</th>\n",
       "      <th>device_id</th>\n",
       "      <th>gateway_id</th>\n",
       "      <th>height</th>\n",
       "    </tr>\n",
       "  </thead>\n",
       "  <tbody>\n",
       "    <tr>\n",
       "      <th>0</th>\n",
       "      <td>2023-08-27 19:57:15.127842528+03:00</td>\n",
       "      <td>4.21</td>\n",
       "      <td>ngatosolar1</td>\n",
       "      <td>multitech-dsail-impala</td>\n",
       "      <td>82</td>\n",
       "    </tr>\n",
       "    <tr>\n",
       "      <th>1</th>\n",
       "      <td>2023-08-27 20:02:17.124267061+03:00</td>\n",
       "      <td>4.21</td>\n",
       "      <td>ngatosolar1</td>\n",
       "      <td>multitech-dsail-bushbuck</td>\n",
       "      <td>82</td>\n",
       "    </tr>\n",
       "    <tr>\n",
       "      <th>2</th>\n",
       "      <td>2023-08-27 20:07:19.109836548+03:00</td>\n",
       "      <td>4.21</td>\n",
       "      <td>ngatosolar1</td>\n",
       "      <td>multitech-dsail-tower</td>\n",
       "      <td>82</td>\n",
       "    </tr>\n",
       "    <tr>\n",
       "      <th>3</th>\n",
       "      <td>2023-08-27 20:12:21.101763731+03:00</td>\n",
       "      <td>4.21</td>\n",
       "      <td>ngatosolar1</td>\n",
       "      <td>multitech-dsail-impala</td>\n",
       "      <td>82</td>\n",
       "    </tr>\n",
       "    <tr>\n",
       "      <th>4</th>\n",
       "      <td>2023-08-27 20:17:23.082726419+03:00</td>\n",
       "      <td>4.21</td>\n",
       "      <td>ngatosolar1</td>\n",
       "      <td>multitech-dsail-bushbuck</td>\n",
       "      <td>83</td>\n",
       "    </tr>\n",
       "    <tr>\n",
       "      <th>...</th>\n",
       "      <td>...</td>\n",
       "      <td>...</td>\n",
       "      <td>...</td>\n",
       "      <td>...</td>\n",
       "      <td>...</td>\n",
       "    </tr>\n",
       "    <tr>\n",
       "      <th>69</th>\n",
       "      <td>2023-08-28 01:44:32.194907473+03:00</td>\n",
       "      <td>4.21</td>\n",
       "      <td>ngatosolar1</td>\n",
       "      <td>multitech-dsail-impala</td>\n",
       "      <td>81</td>\n",
       "    </tr>\n",
       "    <tr>\n",
       "      <th>70</th>\n",
       "      <td>2023-08-28 01:49:34.163986786+03:00</td>\n",
       "      <td>4.21</td>\n",
       "      <td>ngatosolar1</td>\n",
       "      <td>multitech-dsail-tower</td>\n",
       "      <td>81</td>\n",
       "    </tr>\n",
       "    <tr>\n",
       "      <th>71</th>\n",
       "      <td>2023-08-28 01:54:36.145358662+03:00</td>\n",
       "      <td>4.21</td>\n",
       "      <td>ngatosolar1</td>\n",
       "      <td>multitech-dsail-bushbuck</td>\n",
       "      <td>82</td>\n",
       "    </tr>\n",
       "    <tr>\n",
       "      <th>72</th>\n",
       "      <td>2023-08-28 01:59:38.135987221+03:00</td>\n",
       "      <td>4.21</td>\n",
       "      <td>ngatosolar1</td>\n",
       "      <td>multitech-dsail-impala</td>\n",
       "      <td>82</td>\n",
       "    </tr>\n",
       "    <tr>\n",
       "      <th>73</th>\n",
       "      <td>2023-08-28 02:04:40.119069428+03:00</td>\n",
       "      <td>4.21</td>\n",
       "      <td>ngatosolar1</td>\n",
       "      <td>multitech-dsail-tower</td>\n",
       "      <td>82</td>\n",
       "    </tr>\n",
       "  </tbody>\n",
       "</table>\n",
       "<p>74 rows × 5 columns</p>\n",
       "</div>"
      ],
      "text/plain": [
       "                                  time  battery_voltage    device_id  \\\n",
       "0  2023-08-27 19:57:15.127842528+03:00             4.21  ngatosolar1   \n",
       "1  2023-08-27 20:02:17.124267061+03:00             4.21  ngatosolar1   \n",
       "2  2023-08-27 20:07:19.109836548+03:00             4.21  ngatosolar1   \n",
       "3  2023-08-27 20:12:21.101763731+03:00             4.21  ngatosolar1   \n",
       "4  2023-08-27 20:17:23.082726419+03:00             4.21  ngatosolar1   \n",
       "..                                 ...              ...          ...   \n",
       "69 2023-08-28 01:44:32.194907473+03:00             4.21  ngatosolar1   \n",
       "70 2023-08-28 01:49:34.163986786+03:00             4.21  ngatosolar1   \n",
       "71 2023-08-28 01:54:36.145358662+03:00             4.21  ngatosolar1   \n",
       "72 2023-08-28 01:59:38.135987221+03:00             4.21  ngatosolar1   \n",
       "73 2023-08-28 02:04:40.119069428+03:00             4.21  ngatosolar1   \n",
       "\n",
       "                  gateway_id  height  \n",
       "0     multitech-dsail-impala      82  \n",
       "1   multitech-dsail-bushbuck      82  \n",
       "2      multitech-dsail-tower      82  \n",
       "3     multitech-dsail-impala      82  \n",
       "4   multitech-dsail-bushbuck      83  \n",
       "..                       ...     ...  \n",
       "69    multitech-dsail-impala      81  \n",
       "70     multitech-dsail-tower      81  \n",
       "71  multitech-dsail-bushbuck      82  \n",
       "72    multitech-dsail-impala      82  \n",
       "73     multitech-dsail-tower      82  \n",
       "\n",
       "[74 rows x 5 columns]"
      ]
     },
     "execution_count": 10,
     "metadata": {},
     "output_type": "execute_result"
    }
   ],
   "source": [
    "# Conditioning the data (timezone)\n",
    "df2 = df.set_index('time')\n",
    "df3 = df2.tz_convert('Africa/Nairobi')\n",
    "df4 = df3.reset_index()\n",
    "df5= df4.drop(['channel_rssi','dev_eui','frequency','dev_addr','received_at','rssi', 'sensor', 'ts', 'snr','solar_voltageA','solar_voltageB','solar_current'], axis = 1)\n",
    "df5"
   ]
  },
  {
   "cell_type": "code",
   "execution_count": 11,
   "id": "08ebabf1",
   "metadata": {},
   "outputs": [
    {
     "name": "stderr",
     "output_type": "stream",
     "text": [
      "C:\\Users\\PC\\AppData\\Local\\Temp/ipykernel_3564/868541398.py:4: FutureWarning: Indexing a DataFrame with a datetimelike index using a single string to slice the rows, like `frame[string]`, is deprecated and will be removed in a future version. Use `frame.loc[string]` instead.\n",
      "  df7 = df6[date].reset_index()\n"
     ]
    }
   ],
   "source": [
    "df5[['time']] = df5[['time']].apply(pd.to_datetime, dayfirst=True)\n",
    "date = '08-28-2023'\n",
    "df6 = df5.set_index('time')\n",
    "df7 = df6[date].reset_index()\n"
   ]
  },
  {
   "cell_type": "markdown",
   "id": "eefab554",
   "metadata": {},
   "source": [
    "- Plot the battery_voltage"
   ]
  },
  {
   "cell_type": "code",
   "execution_count": 12,
   "id": "12f21f13",
   "metadata": {},
   "outputs": [
    {
     "data": {
      "image/png": "[encoded data removed]",
      "text/plain": [
       "<Figure size 1080x504 with 1 Axes>"
      ]
     },
     "metadata": {},
     "output_type": "display_data"
    }
   ],
   "source": [
    "plt.plot(df7['battery_voltage'])\n",
    "plt.show()"
   ]
  },
  {
   "cell_type": "code",
   "execution_count": null,
   "id": "662b1f23",
   "metadata": {},
   "outputs": [],
   "source": []
  }
 ],
 "metadata": {
  "kernelspec": {
   "display_name": "Python 3 (ipykernel)",
   "language": "python",
   "name": "python3"
  },
  "language_info": {
   "codemirror_mode": {
    "name": "ipython",
    "version": 3
   },
   "file_extension": ".py",
   "mimetype": "text/x-python",
   "name": "python",
   "nbconvert_exporter": "python",
   "pygments_lexer": "ipython3",
   "version": "3.9.12"
  }
 },
 "nbformat": 4,
 "nbformat_minor": 5
}
